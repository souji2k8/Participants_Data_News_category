{
 "cells": [
  {
   "cell_type": "code",
   "execution_count": 1,
   "metadata": {},
   "outputs": [],
   "source": [
    "import pandas as pd\n",
    "import numpy as np\n",
    "from sklearn.cluster import KMeans\n",
    "import csv"
   ]
  },
  {
   "cell_type": "code",
   "execution_count": 4,
   "metadata": {},
   "outputs": [
    {
     "data": {
      "text/plain": [
       "(7628, 2)"
      ]
     },
     "execution_count": 4,
     "metadata": {},
     "output_type": "execute_result"
    }
   ],
   "source": [
    "df=pd.read_excel('Data_Train.xlsx')\n",
    "df.shape"
   ]
  },
  {
   "cell_type": "code",
   "execution_count": 42,
   "metadata": {},
   "outputs": [
    {
     "name": "stdout",
     "output_type": "stream",
     "text": [
      "164.72\n"
     ]
    }
   ],
   "source": [
    "#Kmeans without PCA\n",
    "model=KMeans(random_state=0)\n",
    "model.fit(df_vectors)\n",
    "sse_beforePCA=round(model.inertia_,2)\n",
    "print(sse_beforePCA)"
   ]
  },
  {
   "cell_type": "code",
   "execution_count": 43,
   "metadata": {},
   "outputs": [
    {
     "data": {
      "text/plain": [
       "col\n",
       "0    30\n",
       "1    38\n",
       "2    35\n",
       "3    46\n",
       "4    30\n",
       "Name: col, dtype: int64"
      ]
     },
     "execution_count": 43,
     "metadata": {},
     "output_type": "execute_result"
    }
   ],
   "source": [
    "count=pd.DataFrame({'col':model.labels_}) \n",
    "count.groupby('col')['col'].count()"
   ]
  },
  {
   "cell_type": "code",
   "execution_count": 44,
   "metadata": {},
   "outputs": [
    {
     "name": "stdout",
     "output_type": "stream",
     "text": [
      "Counter({3: 46, 1: 38, 2: 35, 4: 30, 0: 30})\n"
     ]
    }
   ],
   "source": [
    "from collections import Counter,defaultdict\n",
    "print(Counter(model.labels_))\n",
    "cluster_beforePCA=3\n",
    "count_beforePCA=46"
   ]
  },
  {
   "cell_type": "code",
   "execution_count": 45,
   "metadata": {},
   "outputs": [],
   "source": [
    "def count(out):\n",
    "    from collections import Counter \n",
    "    split_it = out.split() \n",
    "    Counter = Counter(split_it) \n",
    "    most_occur = Counter.most_common(50)\n",
    "    return most_occur"
   ]
  },
  {
   "cell_type": "code",
   "execution_count": 46,
   "metadata": {},
   "outputs": [],
   "source": [
    "df_beforePCA=df.drop('Vector',axis=1)\n",
    "df_beforePCA['label']=model.labels_"
   ]
  },
  {
   "cell_type": "code",
   "execution_count": 47,
   "metadata": {},
   "outputs": [],
   "source": [
    "out_0= ' '.join(df_beforePCA[(df_beforePCA.label==0)][\"Article\"])\n",
    "out_1= ' '.join(df_beforePCA[(df_beforePCA.label==1)][\"Article\"])\n",
    "out_2= ' '.join(df_beforePCA[(df_beforePCA.label==2)][\"Article\"])\n",
    "out_3= ' '.join(df_beforePCA[(df_beforePCA.label==3)][\"Article\"])\n",
    "out_4= ' '.join(df_beforePCA[(df_beforePCA.label==4)][\"Article\"])"
   ]
  },
  {
   "cell_type": "code",
   "execution_count": 48,
   "metadata": {},
   "outputs": [
    {
     "name": "stdout",
     "output_type": "stream",
     "text": [
      "[('the', 688), ('to', 433), ('of', 342), ('a', 277), ('and', 274), ('in', 222), ('is', 172), ('that', 149), ('The', 134), ('for', 121), ('it', 105), ('said', 99), ('on', 93), ('are', 93), ('has', 85), ('by', 78), ('be', 77), ('with', 76), ('have', 66), ('as', 66), ('was', 64), ('its', 64), ('people', 64), ('which', 59), ('will', 55), ('they', 50), ('from', 49), ('up', 49), ('an', 45), ('also', 44), ('or', 43), ('can', 43), ('their', 42), ('at', 41), ('mobile', 41), ('this', 40), ('net', 40), ('not', 38), ('were', 37), ('about', 36), ('been', 35), ('-', 35), ('security', 35), ('more', 34), ('It', 33), ('use', 32), ('Microsoft', 31), ('he', 29), ('users', 29), ('Mr', 29)]\n",
      "/n\n",
      "[('the', 686), ('of', 323), ('and', 312), ('to', 271), ('in', 250), ('a', 232), ('The', 193), ('for', 174), ('is', 144), ('was', 95), ('will', 93), ('has', 93), ('on', 88), ('be', 86), ('it', 72), ('at', 71), ('as', 68), ('that', 68), ('by', 68), ('with', 66), ('best', 58), ('said', 55), ('who', 50), ('which', 50), ('from', 48), ('have', 47), ('film', 43), ('an', 42), ('are', 39), ('his', 39), ('-', 37), ('not', 35), ('its', 34), ('been', 33), ('up', 32), ('also', 31), ('first', 31), ('It', 30), ('book', 30), ('won', 29), ('but', 29), ('he', 28), ('A', 26), ('into', 25), ('were', 25), ('award', 24), ('than', 23), ('I', 21), ('could', 21), ('this', 20)]\n",
      "/n\n",
      "[('the', 569), ('in', 294), ('to', 282), ('and', 216), ('of', 202), ('a', 185), ('for', 100), ('was', 92), ('is', 91), ('at', 87), ('The', 75), ('on', 75), ('that', 67), ('I', 66), ('will', 59), ('has', 58), ('his', 57), ('have', 55), ('be', 54), ('he', 52), ('world', 50), ('with', 45), ('but', 44), ('had', 42), ('are', 41), ('as', 40), ('said', 40), ('Olympic', 39), ('also', 37), ('not', 37), ('from', 36), ('been', 35), ('an', 34), ('she', 33), ('this', 33), ('her', 32), ('it', 32), ('by', 31), ('-', 31), ('Athens', 31), ('who', 29), ('last', 29), ('\"I', 29), ('champion', 28), ('won', 28), ('race', 28), ('record', 27), ('all', 25), ('if', 24), ('But', 24)]\n",
      "/n\n",
      "[('the', 950), ('to', 561), ('of', 511), ('a', 366), ('and', 353), ('in', 306), ('is', 183), ('The', 175), ('that', 166), ('for', 163), ('on', 154), ('was', 150), ('said', 147), ('Mr', 142), ('be', 129), ('it', 125), ('have', 112), ('as', 109), ('has', 107), ('not', 103), ('by', 102), ('he', 91), ('would', 89), ('are', 87), ('at', 84), ('will', 76), ('-', 75), ('with', 66), ('from', 63), ('which', 60), ('an', 59), ('his', 57), ('been', 53), ('were', 52), ('had', 51), ('He', 49), ('this', 46), ('its', 45), ('could', 45), ('or', 44), ('their', 43), ('they', 42), ('Blair', 42), ('new', 41), ('but', 41), ('who', 40), ('about', 38), ('more', 37), ('you', 37), ('But', 35)]\n",
      "/n\n",
      "[('the', 462), ('to', 252), ('of', 231), ('in', 223), ('a', 182), ('and', 168), ('for', 103), ('The', 80), ('is', 80), ('by', 74), ('on', 70), ('has', 67), ('that', 61), ('it', 58), ('said', 56), ('was', 54), ('as', 53), ('at', 53), ('are', 43), ('with', 42), ('be', 42), ('-', 42), ('from', 40), ('have', 38), ('which', 36), ('will', 34), ('its', 34), ('government', 33), ('but', 30), ('had', 30), ('than', 29), ('growth', 29), ('not', 28), ('said.', 26), ('US', 26), ('about', 23), ('he', 23), ('been', 22), ('up', 22), ('year', 22), ('were', 21), ('this', 20), ('would', 19), ('an', 19), ('also', 19), ('more', 18), ('economy', 18), ('still', 17), ('some', 17), ('oil', 17)]\n"
     ]
    },
    {
     "data": {
      "text/plain": [
       "(None, None, None, None, None, None, None, None, None)"
      ]
     },
     "execution_count": 48,
     "metadata": {},
     "output_type": "execute_result"
    }
   ],
   "source": [
    "print(count(out_0)),print(\"/n\"),print(count(out_1)),print(\"/n\"),print(count(out_2)),print(\"/n\"),print(count(out_3)),print(\"/n\"),print(count(out_4))"
   ]
  },
  {
   "cell_type": "code",
   "execution_count": 49,
   "metadata": {},
   "outputs": [],
   "source": [
    "#\"this\""
   ]
  },
  {
   "cell_type": "code",
   "execution_count": 50,
   "metadata": {},
   "outputs": [
    {
     "data": {
      "text/plain": [
       "(179, 100)"
      ]
     },
     "execution_count": 50,
     "metadata": {},
     "output_type": "execute_result"
    }
   ],
   "source": [
    "#PCA\n",
    "from sklearn.decomposition import PCA\n",
    "pca = PCA(n_components=100,random_state=0)\n",
    "df_new_feat = pca.fit_transform(df_vectors)\n",
    "df_new_feat.shape"
   ]
  },
  {
   "cell_type": "code",
   "execution_count": 51,
   "metadata": {},
   "outputs": [
    {
     "name": "stdout",
     "output_type": "stream",
     "text": [
      "110.52\n"
     ]
    }
   ],
   "source": [
    "#Kmeans after PCA\n",
    "model.fit(df_new_feat)\n",
    "sse_afterPCA=round(model.inertia_,2)\n",
    "print(sse_afterPCA)"
   ]
  },
  {
   "cell_type": "code",
   "execution_count": 52,
   "metadata": {},
   "outputs": [
    {
     "name": "stdout",
     "output_type": "stream",
     "text": [
      "Counter({2: 74, 1: 52, 3: 29, 0: 22, 4: 2})\n"
     ]
    }
   ],
   "source": [
    "from collections import Counter\n",
    "print(Counter(model.labels_))\n",
    "cluster_afterPCA=2\n",
    "count_afterPCA=74"
   ]
  },
  {
   "cell_type": "code",
   "execution_count": 53,
   "metadata": {},
   "outputs": [],
   "source": [
    "df_afterPCA=df.drop('Vector',axis=1)\n",
    "df_afterPCA['label']=model.labels_"
   ]
  },
  {
   "cell_type": "code",
   "execution_count": 54,
   "metadata": {},
   "outputs": [
    {
     "data": {
      "text/html": [
       "<div>\n",
       "<style scoped>\n",
       "    .dataframe tbody tr th:only-of-type {\n",
       "        vertical-align: middle;\n",
       "    }\n",
       "\n",
       "    .dataframe tbody tr th {\n",
       "        vertical-align: top;\n",
       "    }\n",
       "\n",
       "    .dataframe thead th {\n",
       "        text-align: right;\n",
       "    }\n",
       "</style>\n",
       "<table border=\"1\" class=\"dataframe\">\n",
       "  <thead>\n",
       "    <tr style=\"text-align: right;\">\n",
       "      <th></th>\n",
       "      <th>Article</th>\n",
       "      <th>Preprocessed-Article</th>\n",
       "      <th>label</th>\n",
       "    </tr>\n",
       "  </thead>\n",
       "  <tbody>\n",
       "    <tr>\n",
       "      <th>0</th>\n",
       "      <td>Musical treatment for Capra film\\n\\nThe classi...</td>\n",
       "      <td>Musical treatment Capra film The classic film ...</td>\n",
       "      <td>1</td>\n",
       "    </tr>\n",
       "    <tr>\n",
       "      <th>1</th>\n",
       "      <td>Spark heads world Booker list\\n\\nDame Muriel S...</td>\n",
       "      <td>Spark heads world Booker list Dame Muriel Spar...</td>\n",
       "      <td>1</td>\n",
       "    </tr>\n",
       "    <tr>\n",
       "      <th>10</th>\n",
       "      <td>Artists' secret postcards on sale\\n\\nPostcards...</td>\n",
       "      <td>Artists  secret postcards sale Postcards artis...</td>\n",
       "      <td>2</td>\n",
       "    </tr>\n",
       "    <tr>\n",
       "      <th>100</th>\n",
       "      <td>Chepkemei joins Edinburgh line-up\\n\\nSusan Che...</td>\n",
       "      <td>Chepkemei joins Edinburgh lineup Susan Chepkem...</td>\n",
       "      <td>3</td>\n",
       "    </tr>\n",
       "    <tr>\n",
       "      <th>101</th>\n",
       "      <td>El Guerrouj targets cross country\\n\\nDouble Ol...</td>\n",
       "      <td>El Guerrouj targets cross country Double Olymp...</td>\n",
       "      <td>3</td>\n",
       "    </tr>\n",
       "  </tbody>\n",
       "</table>\n",
       "</div>"
      ],
      "text/plain": [
       "                                               Article  \\\n",
       "0    Musical treatment for Capra film\\n\\nThe classi...   \n",
       "1    Spark heads world Booker list\\n\\nDame Muriel S...   \n",
       "10   Artists' secret postcards on sale\\n\\nPostcards...   \n",
       "100  Chepkemei joins Edinburgh line-up\\n\\nSusan Che...   \n",
       "101  El Guerrouj targets cross country\\n\\nDouble Ol...   \n",
       "\n",
       "                                  Preprocessed-Article  label  \n",
       "0    Musical treatment Capra film The classic film ...      1  \n",
       "1    Spark heads world Booker list Dame Muriel Spar...      1  \n",
       "10   Artists  secret postcards sale Postcards artis...      2  \n",
       "100  Chepkemei joins Edinburgh lineup Susan Chepkem...      3  \n",
       "101  El Guerrouj targets cross country Double Olymp...      3  "
      ]
     },
     "execution_count": 54,
     "metadata": {},
     "output_type": "execute_result"
    }
   ],
   "source": [
    "df_afterPCA.head()"
   ]
  },
  {
   "cell_type": "code",
   "execution_count": 55,
   "metadata": {},
   "outputs": [],
   "source": [
    "out_0= ' '.join(df_afterPCA[(df_afterPCA.label==0)][\"Article\"])\n",
    "out_1= ' '.join(df_afterPCA[(df_afterPCA.label==1)][\"Article\"])\n",
    "out_2= ' '.join(df_afterPCA[(df_afterPCA.label==2)][\"Article\"])\n",
    "out_3= ' '.join(df_afterPCA[(df_afterPCA.label==3)][\"Article\"])\n",
    "out_4= ' '.join(df_afterPCA[(df_afterPCA.label==4)][\"Article\"])"
   ]
  },
  {
   "cell_type": "code",
   "execution_count": 56,
   "metadata": {},
   "outputs": [
    {
     "name": "stdout",
     "output_type": "stream",
     "text": [
      "[('the', 391), ('to', 218), ('of', 211), ('in', 172), ('a', 151), ('and', 134), ('for', 82), ('is', 73), ('The', 62), ('that', 56), ('on', 56), ('by', 54), ('it', 50), ('has', 49), ('said', 47), ('at', 43), ('as', 42), ('-', 41), ('was', 40), ('are', 35), ('from', 34), ('be', 33), ('have', 31), ('not', 31), ('US', 30), ('were', 28), ('which', 28), ('women', 26), ('this', 26), ('growth', 26), ('up', 24), ('their', 24), ('would', 24), ('its', 23), ('but', 22), ('will', 21), ('with', 21), ('new', 20), ('also', 19), ('than', 19), ('months', 18), ('said.', 18), ('or', 18), ('year', 18), ('prices', 18), ('all', 17), ('about', 17), ('But', 17), ('oil', 17), ('could', 16)]\n",
      "/n\n",
      "[('the', 897), ('of', 447), ('to', 435), ('and', 381), ('in', 336), ('a', 331), ('The', 236), ('for', 209), ('is', 179), ('on', 146), ('was', 138), ('has', 118), ('with', 100), ('by', 99), ('will', 95), ('that', 94), ('at', 94), ('as', 91), ('be', 85), ('have', 83), ('said', 77), ('it', 74), ('-', 71), ('are', 67), ('which', 65), ('who', 61), ('film', 59), ('its', 59), ('an', 58), ('he', 57), ('best', 57), ('his', 56), ('not', 49), ('from', 46), ('been', 44), ('were', 40), ('but', 40), ('into', 37), ('Mr', 37), ('also', 34), ('her', 34), ('up', 32), ('He', 31), ('had', 31), ('about', 31), ('A', 30), ('two', 30), ('one', 29), ('book', 29), ('won', 28)]\n",
      "/n\n",
      "[('the', 1592), ('to', 917), ('of', 797), ('and', 638), ('a', 612), ('in', 527), ('is', 359), ('that', 307), ('The', 296), ('for', 287), ('it', 236), ('said', 235), ('be', 220), ('on', 218), ('has', 196), ('was', 189), ('are', 182), ('by', 172), ('as', 166), ('have', 160), ('Mr', 158), ('will', 147), ('with', 140), ('not', 131), ('at', 126), ('from', 123), ('which', 120), ('he', 111), ('would', 105), ('its', 100), ('an', 99), ('-', 91), ('they', 90), ('people', 88), ('or', 88), ('been', 86), ('this', 82), ('up', 80), ('had', 78), ('also', 77), ('could', 76), ('their', 72), ('more', 72), ('about', 71), ('were', 69), ('but', 68), ('can', 66), ('than', 59), ('It', 57), ('mobile', 56)]\n",
      "/n\n",
      "[('the', 451), ('in', 246), ('to', 215), ('and', 164), ('of', 152), ('a', 142), ('was', 88), ('for', 75), ('at', 65), ('The', 61), ('I', 60), ('on', 58), ('is', 53), ('that', 52), ('will', 50), ('world', 47), ('have', 44), ('be', 44), ('has', 43), ('Olympic', 38), ('had', 38), ('her', 36), ('his', 35), ('said', 34), ('she', 33), ('from', 33), ('he', 33), ('been', 33), ('it', 32), ('also', 32), ('but', 31), ('Athens', 31), ('with', 30), ('as', 29), ('by', 28), ('won', 28), ('not', 28), ('champion', 27), ('an', 26), ('who', 25), ('\"I', 25), ('race', 23), ('this', 23), ('record', 23), ('would', 21), ('after', 21), ('last', 20), ('before', 19), ('are', 19), ('Greek', 19)]\n",
      "/n\n",
      "[('the', 24), ('in', 14), ('to', 14), ('he', 12), ('Idowu', 10), ('his', 10), ('for', 8), ('triple', 8), ('at', 8), ('as', 8), ('Edwards', 6), ('gold', 6), ('jump', 6), ('and', 6), ('but', 6), ('is', 6), ('a', 6), ('Madrid', 6), ('be', 6), ('believes', 4), ('can', 4), ('European', 4), ('Sheffield', 4), ('all', 4), ('said', 4), ('Edwards.', 4), ('best', 4), ('has', 4), ('top', 4), ('will', 4), ('with', 4), ('tips', 2), ('Euro', 2), ('World', 2), ('outdoor', 2), ('record', 2), ('holder', 2), ('BBC', 2), ('pundit', 2), ('Jonathan', 2), ('Phillips', 2), ('take', 2), ('Indoor', 2), ('Championships.', 2), ('landed', 2), ('17.30m', 2), ('British', 2), ('trials', 2), ('last', 2), ('month', 2)]\n"
     ]
    },
    {
     "data": {
      "text/plain": [
       "(None, None, None, None, None, None, None, None, None)"
      ]
     },
     "execution_count": 56,
     "metadata": {},
     "output_type": "execute_result"
    }
   ],
   "source": [
    "print(count(out_0)),print(\"/n\"),print(count(out_1)),print(\"/n\"),print(count(out_2)),print(\"/n\"),print(count(out_3)),print(\"/n\"),print(count(out_4))"
   ]
  },
  {
   "cell_type": "code",
   "execution_count": 57,
   "metadata": {},
   "outputs": [],
   "source": [
    "#\"mobile\""
   ]
  },
  {
   "cell_type": "code",
   "execution_count": 58,
   "metadata": {},
   "outputs": [
    {
     "data": {
      "text/plain": [
       "[164.72, 110.52, 3, 46, 2, 74, 'this', 'mobile']"
      ]
     },
     "execution_count": 58,
     "metadata": {},
     "output_type": "execute_result"
    }
   ],
   "source": [
    "results=[sse_beforePCA,sse_afterPCA,cluster_beforePCA,count_beforePCA,cluster_afterPCA,count_afterPCA,\"this\",\"mobile\"]\n",
    "results"
   ]
  },
  {
   "cell_type": "code",
   "execution_count": 59,
   "metadata": {},
   "outputs": [
    {
     "name": "stdout",
     "output_type": "stream",
     "text": [
      "164.72\n",
      "110.52\n",
      "3\n",
      "46\n",
      "2\n",
      "74\n",
      "this\n",
      "mobile\n",
      "\n"
     ]
    }
   ],
   "source": [
    "with open(\"output.csv\", \"w\", newline='') as out:\n",
    "# with open(\"/code/output/output.csv\", \"w\") as out:\n",
    "    writer = csv.writer(out, delimiter=\",\")\n",
    "    for i in results:\n",
    "        writer.writerow([i])\n",
    "with open(\"output.csv\",'r') as f:\n",
    "# with open(\"/code/output/output.csv\",'r') as f:\n",
    "    print(f.read())"
   ]
  },
  {
   "cell_type": "code",
   "execution_count": null,
   "metadata": {},
   "outputs": [],
   "source": []
  },
  {
   "cell_type": "code",
   "execution_count": null,
   "metadata": {},
   "outputs": [],
   "source": []
  },
  {
   "cell_type": "code",
   "execution_count": null,
   "metadata": {},
   "outputs": [],
   "source": []
  },
  {
   "cell_type": "code",
   "execution_count": null,
   "metadata": {},
   "outputs": [],
   "source": []
  },
  {
   "cell_type": "code",
   "execution_count": null,
   "metadata": {},
   "outputs": [],
   "source": []
  },
  {
   "cell_type": "code",
   "execution_count": 12,
   "metadata": {},
   "outputs": [],
   "source": [
    "import numpy as np \n",
    "import pandas as pd \n",
    "import matplotlib.pyplot as plt\n",
    "import seaborn as sns\n",
    "from sklearn.feature_extraction import text\n",
    "from sklearn.feature_extraction.text import TfidfVectorizer\n",
    "from sklearn.cluster import KMeans\n",
    "from nltk.tokenize import RegexpTokenizer\n",
    "from nltk.stem.snowball import SnowballStemmer\n",
    "%matplotlib inline"
   ]
  },
  {
   "cell_type": "code",
   "execution_count": 13,
   "metadata": {},
   "outputs": [
    {
     "data": {
      "text/html": [
       "<div>\n",
       "<style scoped>\n",
       "    .dataframe tbody tr th:only-of-type {\n",
       "        vertical-align: middle;\n",
       "    }\n",
       "\n",
       "    .dataframe tbody tr th {\n",
       "        vertical-align: top;\n",
       "    }\n",
       "\n",
       "    .dataframe thead th {\n",
       "        text-align: right;\n",
       "    }\n",
       "</style>\n",
       "<table border=\"1\" class=\"dataframe\">\n",
       "  <thead>\n",
       "    <tr style=\"text-align: right;\">\n",
       "      <th></th>\n",
       "      <th>STORY</th>\n",
       "      <th>SECTION</th>\n",
       "    </tr>\n",
       "  </thead>\n",
       "  <tbody>\n",
       "    <tr>\n",
       "      <th>0</th>\n",
       "      <td>But the most painful was the huge reversal in ...</td>\n",
       "      <td>3</td>\n",
       "    </tr>\n",
       "    <tr>\n",
       "      <th>1</th>\n",
       "      <td>How formidable is the opposition alliance amon...</td>\n",
       "      <td>0</td>\n",
       "    </tr>\n",
       "    <tr>\n",
       "      <th>2</th>\n",
       "      <td>Most Asian currencies were trading lower today...</td>\n",
       "      <td>3</td>\n",
       "    </tr>\n",
       "    <tr>\n",
       "      <th>3</th>\n",
       "      <td>If you want to answer any question, click on ‘...</td>\n",
       "      <td>1</td>\n",
       "    </tr>\n",
       "    <tr>\n",
       "      <th>4</th>\n",
       "      <td>In global markets, gold prices edged up today ...</td>\n",
       "      <td>3</td>\n",
       "    </tr>\n",
       "  </tbody>\n",
       "</table>\n",
       "</div>"
      ],
      "text/plain": [
       "                                               STORY  SECTION\n",
       "0  But the most painful was the huge reversal in ...        3\n",
       "1  How formidable is the opposition alliance amon...        0\n",
       "2  Most Asian currencies were trading lower today...        3\n",
       "3  If you want to answer any question, click on ‘...        1\n",
       "4  In global markets, gold prices edged up today ...        3"
      ]
     },
     "execution_count": 13,
     "metadata": {},
     "output_type": "execute_result"
    }
   ],
   "source": [
    "data1 = pd.read_excel('Data_Train.xlsx')\n",
    "data1.head()"
   ]
  },
  {
   "cell_type": "code",
   "execution_count": 17,
   "metadata": {},
   "outputs": [
    {
     "data": {
      "text/html": [
       "<div>\n",
       "<style scoped>\n",
       "    .dataframe tbody tr th:only-of-type {\n",
       "        vertical-align: middle;\n",
       "    }\n",
       "\n",
       "    .dataframe tbody tr th {\n",
       "        vertical-align: top;\n",
       "    }\n",
       "\n",
       "    .dataframe thead th {\n",
       "        text-align: right;\n",
       "    }\n",
       "</style>\n",
       "<table border=\"1\" class=\"dataframe\">\n",
       "  <thead>\n",
       "    <tr style=\"text-align: right;\">\n",
       "      <th></th>\n",
       "      <th>STORY</th>\n",
       "    </tr>\n",
       "  </thead>\n",
       "  <tbody>\n",
       "    <tr>\n",
       "      <th>0</th>\n",
       "      <td>But the most painful was the huge reversal in ...</td>\n",
       "    </tr>\n",
       "    <tr>\n",
       "      <th>1</th>\n",
       "      <td>How formidable is the opposition alliance amon...</td>\n",
       "    </tr>\n",
       "    <tr>\n",
       "      <th>2</th>\n",
       "      <td>Most Asian currencies were trading lower today...</td>\n",
       "    </tr>\n",
       "    <tr>\n",
       "      <th>3</th>\n",
       "      <td>If you want to answer any question, click on ‘...</td>\n",
       "    </tr>\n",
       "    <tr>\n",
       "      <th>4</th>\n",
       "      <td>In global markets, gold prices edged up today ...</td>\n",
       "    </tr>\n",
       "  </tbody>\n",
       "</table>\n",
       "</div>"
      ],
      "text/plain": [
       "                                               STORY\n",
       "0  But the most painful was the huge reversal in ...\n",
       "1  How formidable is the opposition alliance amon...\n",
       "2  Most Asian currencies were trading lower today...\n",
       "3  If you want to answer any question, click on ‘...\n",
       "4  In global markets, gold prices edged up today ..."
      ]
     },
     "execution_count": 17,
     "metadata": {},
     "output_type": "execute_result"
    }
   ],
   "source": [
    "data=pd.DataFrame(data1['STORY'])\n",
    "data.head()"
   ]
  },
  {
   "cell_type": "code",
   "execution_count": 18,
   "metadata": {},
   "outputs": [
    {
     "name": "stdout",
     "output_type": "stream",
     "text": [
      "<class 'pandas.core.frame.DataFrame'>\n",
      "RangeIndex: 7628 entries, 0 to 7627\n",
      "Data columns (total 1 columns):\n",
      "STORY    7628 non-null object\n",
      "dtypes: object(1)\n",
      "memory usage: 59.7+ KB\n"
     ]
    }
   ],
   "source": [
    "data.info()"
   ]
  },
  {
   "cell_type": "code",
   "execution_count": 19,
   "metadata": {},
   "outputs": [
    {
     "data": {
      "text/html": [
       "<div>\n",
       "<style scoped>\n",
       "    .dataframe tbody tr th:only-of-type {\n",
       "        vertical-align: middle;\n",
       "    }\n",
       "\n",
       "    .dataframe tbody tr th {\n",
       "        vertical-align: top;\n",
       "    }\n",
       "\n",
       "    .dataframe thead th {\n",
       "        text-align: right;\n",
       "    }\n",
       "</style>\n",
       "<table border=\"1\" class=\"dataframe\">\n",
       "  <thead>\n",
       "    <tr style=\"text-align: right;\">\n",
       "      <th></th>\n",
       "      <th>STORY</th>\n",
       "    </tr>\n",
       "  </thead>\n",
       "  <tbody>\n",
       "    <tr>\n",
       "      <th>948</th>\n",
       "      <td>\"Marvel's 616,\" a documentary series exploring...</td>\n",
       "    </tr>\n",
       "    <tr>\n",
       "      <th>307</th>\n",
       "      <td>\"Marvel's 616,\" a documentary series exploring...</td>\n",
       "    </tr>\n",
       "    <tr>\n",
       "      <th>2213</th>\n",
       "      <td>\"Monsters at Work,\" a series inspired by Pixar...</td>\n",
       "    </tr>\n",
       "    <tr>\n",
       "      <th>7462</th>\n",
       "      <td>\"Monsters at Work,\" a series inspired by Pixar...</td>\n",
       "    </tr>\n",
       "    <tr>\n",
       "      <th>2915</th>\n",
       "      <td>\"This is to clarify no official pages run by I...</td>\n",
       "    </tr>\n",
       "    <tr>\n",
       "      <th>6614</th>\n",
       "      <td>\"This is to clarify no official pages run by I...</td>\n",
       "    </tr>\n",
       "    <tr>\n",
       "      <th>107</th>\n",
       "      <td>\"We are seeing this positive rally since Febru...</td>\n",
       "    </tr>\n",
       "    <tr>\n",
       "      <th>3168</th>\n",
       "      <td>\"We are seeing this positive rally since Febru...</td>\n",
       "    </tr>\n",
       "  </tbody>\n",
       "</table>\n",
       "</div>"
      ],
      "text/plain": [
       "                                                  STORY\n",
       "948   \"Marvel's 616,\" a documentary series exploring...\n",
       "307   \"Marvel's 616,\" a documentary series exploring...\n",
       "2213  \"Monsters at Work,\" a series inspired by Pixar...\n",
       "7462  \"Monsters at Work,\" a series inspired by Pixar...\n",
       "2915  \"This is to clarify no official pages run by I...\n",
       "6614  \"This is to clarify no official pages run by I...\n",
       "107   \"We are seeing this positive rally since Febru...\n",
       "3168  \"We are seeing this positive rally since Febru..."
      ]
     },
     "execution_count": 19,
     "metadata": {},
     "output_type": "execute_result"
    }
   ],
   "source": [
    "data[data['STORY'].duplicated(keep=False)].sort_values('STORY').head(8)"
   ]
  },
  {
   "cell_type": "code",
   "execution_count": 20,
   "metadata": {},
   "outputs": [],
   "source": [
    "data = data.drop_duplicates('STORY')"
   ]
  },
  {
   "cell_type": "code",
   "execution_count": 21,
   "metadata": {},
   "outputs": [],
   "source": [
    "punc = ['.', ',', '\"', \"'\", '?', '!', ':', ';', '(', ')', '[', ']', '{', '}',\"%\"]\n",
    "stop_words = text.ENGLISH_STOP_WORDS.union(punc)\n",
    "desc = data['STORY'].values\n",
    "vectorizer = TfidfVectorizer(stop_words = stop_words)\n",
    "X = vectorizer.fit_transform(desc)"
   ]
  },
  {
   "cell_type": "code",
   "execution_count": 22,
   "metadata": {},
   "outputs": [
    {
     "name": "stdout",
     "output_type": "stream",
     "text": [
      "32518\n",
      "['bootloader', 'boots', 'bopaiah', 'bopara', 'bora', 'border', 'bordering', 'borderless', 'borderline', 'borders', 'bore', 'bored', 'boredom', 'borewell', 'borewells', 'borges', 'boring', 'born', 'borne', 'borough', 'boroughs', 'borrow', 'borrowed', 'borrowers', 'borrowing', 'borrowings', 'borrows', 'bosch', 'bosco', 'bose', 'boseman', 'boss', 'bosses', 'boston', 'bot', 'botch', 'botched', 'bother', 'bothered', 'bothering', 'bothie', 'botlghuaweiappleifa', 'botnet', 'botnets', 'bots', 'bottle', 'bottled', 'bottleneck', 'bottles', 'bottoming', 'bottomline', 'bouchard', 'bought', 'boulder', 'bounce', 'bounced', 'bounces', 'bouncing', 'bound', 'boundaries', 'boundary', 'bounded', 'boundless', 'bounds', 'bounties', 'bountiful', 'bounty', 'bouquets', 'bourdon', 'bourne', 'bourse', 'bourses', 'boutique', 'boutrous', 'bouts', 'boutsebm', 'bow', 'bowcaster', 'bowed', 'bowers', 'bowing', 'bowl', 'bowled', 'bowler', 'bowling', 'bowls', 'bows', 'box', 'boxer', 'boxes', 'boxoffice', 'boy', 'boyapati', 'boycott', 'boycotting', 'boyega', 'boyfriend', 'boyfriends', 'boyish', 'boys']\n"
     ]
    }
   ],
   "source": [
    "word_features = vectorizer.get_feature_names()\n",
    "print(len(word_features))\n",
    "print(word_features[5000:5100])"
   ]
  },
  {
   "cell_type": "code",
   "execution_count": 23,
   "metadata": {},
   "outputs": [],
   "source": [
    "stemmer = SnowballStemmer('english')\n",
    "tokenizer = RegexpTokenizer(r'[a-zA-Z\\']+')\n",
    "\n",
    "def tokenize(text):\n",
    "    return [stemmer.stem(word) for word in tokenizer.tokenize(text.lower())]"
   ]
  },
  {
   "cell_type": "code",
   "execution_count": 24,
   "metadata": {},
   "outputs": [
    {
     "name": "stderr",
     "output_type": "stream",
     "text": [
      "C:\\Users\\00001502\\AppData\\Local\\Continuum\\anaconda3\\lib\\site-packages\\sklearn\\feature_extraction\\text.py:301: UserWarning: Your stop_words may be inconsistent with your preprocessing. Tokenizing the stop words generated tokens ['abov', 'afterward', 'alon', 'alreadi', 'alway', 'ani', 'anoth', 'anyon', 'anyth', 'anywher', 'becam', 'becaus', 'becom', 'befor', 'besid', 'cri', 'describ', 'dure', 'els', 'elsewher', 'empti', 'everi', 'everyon', 'everyth', 'everywher', 'fifti', 'forti', 'henc', 'hereaft', 'herebi', 'howev', 'hundr', 'inde', 'mani', 'meanwhil', 'moreov', 'nobodi', 'noon', 'noth', 'nowher', 'onc', 'onli', 'otherwis', 'ourselv', 'perhap', 'pleas', 'sever', 'sinc', 'sincer', 'sixti', 'someon', 'someth', 'sometim', 'somewher', 'themselv', 'thenc', 'thereaft', 'therebi', 'therefor', 'togeth', 'twelv', 'twenti', 'veri', 'whatev', 'whenc', 'whenev', 'wherea', 'whereaft', 'wherebi', 'wherev', 'whi', 'yourselv'] not in stop_words.\n",
      "  'stop_words.' % sorted(inconsistent))\n"
     ]
    },
    {
     "name": "stdout",
     "output_type": "stream",
     "text": [
      "21531\n",
      "[\"'a\", \"'b\", \"'g\", \"'i\", \"'m\", \"'s\", 'aa', 'aaa', 'aadhaar', 'aadhar', 'aadhi', 'aaditya', 'aadmi', 'aag', 'aaghadi', 'aahana', 'aahun', 'aai', 'aaj', 'aakash', 'aalaya', 'aam', 'aamchi', 'aamchya', 'aamhi', 'aamir', 'aan', 'aanand', 'aani', 'aankh', 'aao', 'aap', 'aapka', 'aapki', 'aapkinayiduniya', 'aapko', 'aarakshan', 'aaron', 'aarti', 'aaru', 'aaryan', 'aarzoo', 'aasaan', 'aasha', 'aashiq', 'aashiqui', 'aashish', 'aashray', 'aashwasana', 'aastha']\n"
     ]
    }
   ],
   "source": [
    "vectorizer2 = TfidfVectorizer(stop_words = stop_words, tokenizer = tokenize)\n",
    "X2 = vectorizer2.fit_transform(desc)\n",
    "word_features2 = vectorizer2.get_feature_names()\n",
    "print(len(word_features2))\n",
    "print(word_features2[:50]) "
   ]
  },
  {
   "cell_type": "code",
   "execution_count": 25,
   "metadata": {},
   "outputs": [
    {
     "name": "stderr",
     "output_type": "stream",
     "text": [
      "C:\\Users\\00001502\\AppData\\Local\\Continuum\\anaconda3\\lib\\site-packages\\sklearn\\feature_extraction\\text.py:301: UserWarning: Your stop_words may be inconsistent with your preprocessing. Tokenizing the stop words generated tokens ['abov', 'afterward', 'alon', 'alreadi', 'alway', 'ani', 'anoth', 'anyon', 'anyth', 'anywher', 'becam', 'becaus', 'becom', 'befor', 'besid', 'cri', 'describ', 'dure', 'els', 'elsewher', 'empti', 'everi', 'everyon', 'everyth', 'everywher', 'fifti', 'forti', 'henc', 'hereaft', 'herebi', 'howev', 'hundr', 'inde', 'mani', 'meanwhil', 'moreov', 'nobodi', 'noon', 'noth', 'nowher', 'onc', 'onli', 'otherwis', 'ourselv', 'perhap', 'pleas', 'sever', 'sinc', 'sincer', 'sixti', 'someon', 'someth', 'sometim', 'somewher', 'themselv', 'thenc', 'thereaft', 'therebi', 'therefor', 'togeth', 'twelv', 'twenti', 'veri', 'whatev', 'whenc', 'whenev', 'wherea', 'whereaft', 'wherebi', 'wherev', 'whi', 'yourselv'] not in stop_words.\n",
      "  'stop_words.' % sorted(inconsistent))\n"
     ]
    }
   ],
   "source": [
    "vectorizer3 = TfidfVectorizer(stop_words = stop_words, tokenizer = tokenize, max_features = 1000)\n",
    "X3 = vectorizer3.fit_transform(desc)\n",
    "words = vectorizer3.get_feature_names()"
   ]
  },
  {
   "cell_type": "code",
   "execution_count": null,
   "metadata": {},
   "outputs": [],
   "source": []
  },
  {
   "cell_type": "code",
   "execution_count": 28,
   "metadata": {},
   "outputs": [
    {
     "data": {
      "text/plain": [
       "(7548, 1000)"
      ]
     },
     "execution_count": 28,
     "metadata": {},
     "output_type": "execute_result"
    }
   ],
   "source": [
    "X3.shape"
   ]
  },
  {
   "cell_type": "code",
   "execution_count": 31,
   "metadata": {},
   "outputs": [],
   "source": [
    "from sklearn.decomposition import TruncatedSVD\n",
    "from sklearn.random_projection import sparse_random_matrix\n",
    "svd = TruncatedSVD(n_components=100, n_iter=7, random_state=42)\n",
    "X4=svd.fit_transform(X3)  "
   ]
  },
  {
   "cell_type": "code",
   "execution_count": 39,
   "metadata": {},
   "outputs": [
    {
     "data": {
      "text/plain": [
       "array([0.5, 1.9, 1.3, 1.2, 1. , 0.7, 0.7, 0.6, 0.6, 0.6, 0.5, 0.5, 0.5,\n",
       "       0.5, 0.5, 0.5, 0.5, 0.4, 0.4, 0.4, 0.4, 0.4, 0.4, 0.4, 0.4, 0.4,\n",
       "       0.4, 0.4, 0.3, 0.3, 0.3, 0.3, 0.3, 0.3, 0.3, 0.3, 0.3, 0.3, 0.3,\n",
       "       0.3, 0.3, 0.3, 0.3, 0.3, 0.3, 0.3, 0.3, 0.3, 0.3, 0.3, 0.3, 0.3,\n",
       "       0.3, 0.3, 0.3, 0.3, 0.3, 0.2, 0.2, 0.2, 0.2, 0.2, 0.2, 0.2, 0.2,\n",
       "       0.2, 0.2, 0.2, 0.2, 0.2, 0.2, 0.2, 0.2, 0.2, 0.2, 0.2, 0.2, 0.2,\n",
       "       0.2, 0.2, 0.2, 0.2, 0.2, 0.2, 0.2, 0.2, 0.2, 0.2, 0.2, 0.2, 0.2,\n",
       "       0.2, 0.2, 0.2, 0.2, 0.2, 0.2, 0.2, 0.2, 0.2])"
      ]
     },
     "execution_count": 39,
     "metadata": {},
     "output_type": "execute_result"
    }
   ],
   "source": [
    "np.round(svd.explained_variance_ratio_, 3)*100"
   ]
  },
  {
   "cell_type": "code",
   "execution_count": 40,
   "metadata": {},
   "outputs": [
    {
     "data": {
      "text/plain": [
       "array([ 0.51806246,  2.43460675,  3.75286995,  4.97242353,  5.99942841,\n",
       "        6.68616222,  7.35518813,  7.99373016,  8.61899956,  9.17408683,\n",
       "        9.71552215, 10.23276909, 10.73489974, 11.22223217, 11.70580585,\n",
       "       12.17672225, 12.63320114, 13.07934656, 13.5142566 , 13.93865397,\n",
       "       14.36043564, 14.76886445, 15.15446354, 15.53434839, 15.90384931,\n",
       "       16.27092194, 16.63238086, 16.99066158, 17.33463321, 17.67610675,\n",
       "       18.01576515, 18.34845325, 18.67480929, 18.9955174 , 19.30719438,\n",
       "       19.61717874, 19.9221689 , 20.22378552, 20.52245033, 20.8160962 ,\n",
       "       21.10886058, 21.39651375, 21.679453  , 21.95965534, 22.23881705,\n",
       "       22.51650837, 22.78976551, 23.06151183, 23.33103736, 23.59778379,\n",
       "       23.86307979, 24.12687515, 24.38833501, 24.64707045, 24.90339994,\n",
       "       25.15669667, 25.4072594 , 25.65491747, 25.90096288, 26.14276415,\n",
       "       26.38284984, 26.62202529, 26.85866566, 27.09442648, 27.32771301,\n",
       "       27.55960372, 27.79011221, 28.01977091, 28.24695167, 28.47347761,\n",
       "       28.69932471, 28.92208329, 29.14181247, 29.36028111, 29.57734886,\n",
       "       29.79324352, 30.00685588, 30.21997085, 30.43274977, 30.64389983,\n",
       "       30.85304507, 31.05832195, 31.26198023, 31.46481198, 31.66738846,\n",
       "       31.86811117, 32.06764871, 32.2665822 , 32.4646313 , 32.66046765,\n",
       "       32.85509655, 33.04724818, 33.23800684, 33.42794164, 33.61712045,\n",
       "       33.80548448, 33.99214374, 34.1775515 , 34.36224986, 34.5427263 ])"
      ]
     },
     "execution_count": 40,
     "metadata": {},
     "output_type": "execute_result"
    }
   ],
   "source": [
    "svd.explained_variance_ratio_.cumsum()*100"
   ]
  },
  {
   "cell_type": "code",
   "execution_count": 38,
   "metadata": {},
   "outputs": [
    {
     "data": {
      "image/png": "[encoded data removed]",
      "text/plain": [
       "<Figure size 864x288 with 1 Axes>"
      ]
     },
     "metadata": {
      "needs_background": "light"
     },
     "output_type": "display_data"
    }
   ],
   "source": [
    "plt.figure(figsize=(12,4))\n",
    "plt.plot(range(X4.shape[1]) ,svd.explained_variance_ratio_)\n",
    "plt.xticks(range(X4.shape[1]))\n",
    "plt.grid(True)\n",
    "plt.show()"
   ]
  },
  {
   "cell_type": "code",
   "execution_count": 32,
   "metadata": {},
   "outputs": [
    {
     "data": {
      "text/plain": [
       "(7548, 100)"
      ]
     },
     "execution_count": 32,
     "metadata": {},
     "output_type": "execute_result"
    }
   ],
   "source": [
    "X4.shape"
   ]
  },
  {
   "cell_type": "code",
   "execution_count": 33,
   "metadata": {},
   "outputs": [
    {
     "data": {
      "image/png": "[encoded data removed]",
      "text/plain": [
       "<Figure size 432x288 with 1 Axes>"
      ]
     },
     "metadata": {
      "needs_background": "light"
     },
     "output_type": "display_data"
    }
   ],
   "source": [
    "from sklearn.cluster import KMeans\n",
    "wcss = []\n",
    "for i in range(1,11):\n",
    "    kmeans = KMeans(n_clusters=i,init='k-means++',max_iter=300,n_init=10,random_state=0)\n",
    "    kmeans.fit(X4)\n",
    "    wcss.append(kmeans.inertia_)\n",
    "plt.plot(range(1,11),wcss)\n",
    "plt.title('The Elbow Method')\n",
    "plt.xlabel('Number of clusters')\n",
    "plt.ylabel('WCSS')\n",
    "plt.savefig('elbow.png')\n",
    "plt.show()"
   ]
  },
  {
   "cell_type": "code",
   "execution_count": 34,
   "metadata": {},
   "outputs": [
    {
     "name": "stdout",
     "output_type": "stream",
     "text": [
      "[2520.618607928627, 2398.216560399737, 2325.346347684947, 2263.8148294768607, 2207.2547662449606, 2171.142795087809, 2132.970088331653, 2099.445876793036, 2069.9840775335847, 2050.089627621304]\n"
     ]
    }
   ],
   "source": [
    "print(wcss)"
   ]
  },
  {
   "cell_type": "code",
   "execution_count": null,
   "metadata": {},
   "outputs": [],
   "source": []
  }
 ],
 "metadata": {
  "kernelspec": {
   "display_name": "Python 3",
   "language": "python",
   "name": "python3"
  },
  "language_info": {
   "codemirror_mode": {
    "name": "ipython",
    "version": 3
   },
   "file_extension": ".py",
   "mimetype": "text/x-python",
   "name": "python",
   "nbconvert_exporter": "python",
   "pygments_lexer": "ipython3",
   "version": "3.7.3"
  }
 },
 "nbformat": 4,
 "nbformat_minor": 2
}
